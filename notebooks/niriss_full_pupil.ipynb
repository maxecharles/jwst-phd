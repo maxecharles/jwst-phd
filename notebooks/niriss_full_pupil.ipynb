{
 "cells": [
  {
   "cell_type": "markdown",
   "source": [
    "# Full Pupil NIRISS for Ben"
   ],
   "metadata": {
    "collapsed": false
   }
  },
  {
   "cell_type": "code",
   "execution_count": 3,
   "outputs": [
    {
     "name": "stdout",
     "output_type": "stream",
     "text": [
      "dLux: Jax is running in 32-bit, to enable 64-bit visit: https://jax.readthedocs.io/en/latest/notebooks/Common_Gotchas_in_JAX.html#double-64bit-precision\n"
     ]
    }
   ],
   "source": [
    "import webbpsf\n",
    "import jax.numpy as np\n",
    "import jax.random as jr\n",
    "from jax.scipy.ndimage import map_coordinates\n",
    "from jax import Array\n",
    "import dLux as dl\n",
    "import dLuxWebbpsf as dlW\n",
    "from dLux.utils import deg_to_rad as d2r\n",
    "import matplotlib.pyplot as plt\n",
    "\n",
    "from dLux.detector_layers import DetectorLayer"
   ],
   "metadata": {
    "collapsed": false,
    "ExecuteTime": {
     "start_time": "2023-09-09T19:28:49.799897Z",
     "end_time": "2023-09-09T19:28:59.742065Z"
    }
   }
  },
  {
   "cell_type": "markdown",
   "source": [
    "## SIAF distortion detector layer\n",
    "A version of this is built into dLuxWebbpsf I believe however haven't yet made the move over."
   ],
   "metadata": {
    "collapsed": false
   }
  },
  {
   "cell_type": "code",
   "execution_count": null,
   "outputs": [],
   "source": [
    "class DistortionFromSiaf:\n",
    "    def __new__(cls, aperture, oversample=4):\n",
    "        degree = aperture.Sci2IdlDeg + 1\n",
    "        coeffs_dict = aperture.get_polynomial_coefficients()\n",
    "        coeffs = np.array([coeffs_dict['Sci2IdlX'], coeffs_dict['Sci2IdlY']])\n",
    "        sci_refs = np.array([aperture.XSciRef, aperture.YSciRef])\n",
    "        sci_cens = np.array([aperture.XSciRef, aperture.YSciRef])  # Note this may not be foolproof\n",
    "        pixelscale = 4*0.0164  # np.array([aperture.XSciScale, aperture.YSciScale]).mean()  # this may not be foolproof\n",
    "        return ApplySiafDistortion(degree, coeffs, sci_refs, sci_cens, pixelscale / oversample, oversample)\n",
    "\n",
    "\n",
    "class ApplySiafDistortion(DetectorLayer):\n",
    "    \"\"\"\n",
    "    Applies Science to Ideal distortion following webbpsf/pysaif\n",
    "    \"\"\"\n",
    "    degree: int\n",
    "    Sci2Idl: float\n",
    "    SciRef: float\n",
    "    sci_cen: float\n",
    "    pixel_scale: float\n",
    "    oversample: int\n",
    "    xpows: Array\n",
    "    ypows: Array\n",
    "\n",
    "    def __init__(self,\n",
    "                 degree,\n",
    "                 Sci2Idl,\n",
    "                 SciRef,\n",
    "                 sci_cen,\n",
    "                 pixel_scale,\n",
    "                 oversample):\n",
    "        super().__init__()\n",
    "        self.degree = int(degree)\n",
    "        self.Sci2Idl = np.array(Sci2Idl, dtype=float)\n",
    "        self.SciRef = np.array(SciRef, dtype=float)\n",
    "        self.sci_cen = np.array(sci_cen, dtype=float)\n",
    "        self.pixel_scale = np.array(pixel_scale, dtype=float)\n",
    "        self.oversample = int(oversample)\n",
    "        self.xpows, self.ypows = self.get_pows()\n",
    "\n",
    "    def get_pows(self):\n",
    "        n = self.triangular_number(self.degree)\n",
    "        vals = np.arange(n)\n",
    "\n",
    "        # Ypows\n",
    "        tris = self.triangular_number(np.arange(self.degree))\n",
    "        ydiffs = np.repeat(tris, np.arange(1, self.degree + 1))\n",
    "        ypows = vals - ydiffs\n",
    "\n",
    "        # Xpows\n",
    "        tris = self.triangular_number(np.arange(1, self.degree + 1))\n",
    "        xdiffs = np.repeat(n - np.flip(tris), np.arange(self.degree, 0, -1))\n",
    "        xpows = np.flip(vals - xdiffs)\n",
    "\n",
    "        return xpows, ypows\n",
    "\n",
    "    def __call__(self, image):\n",
    "        \"\"\"\n",
    "\n",
    "        \"\"\"\n",
    "        new_image = self.apply_Sci2Idl_distortion(image.image)\n",
    "        return image.set('image', new_image)\n",
    "        # return image_out\n",
    "\n",
    "    def apply_Sci2Idl_distortion(self, image):\n",
    "        \"\"\"\n",
    "        Applies the distortion from the science (i.e. images) frame to the idealised telescope frame\n",
    "        \"\"\"\n",
    "\n",
    "        # Convert sci cen to idl frame\n",
    "        xidl_cen, yidl_cen = self.distort_coords(self.Sci2Idl[0],\n",
    "                                                 self.Sci2Idl[1],\n",
    "                                                 self.sci_cen[0] - self.SciRef[0],\n",
    "                                                 self.sci_cen[1] - self.SciRef[1])\n",
    "\n",
    "        # Get paraxial pixel coordinates and detector properties.\n",
    "        nx, ny = image.shape\n",
    "        nx_half, ny_half = ((nx - 1) / 2., (ny - 1) / 2.)\n",
    "        xlin = np.linspace(-1 * nx_half, nx_half, nx)\n",
    "        ylin = np.linspace(-1 * ny_half, ny_half, ny)\n",
    "        xarr, yarr = np.meshgrid(xlin, ylin)\n",
    "\n",
    "        # Scale and shift coordinate arrays to 'sci' frame\n",
    "        xnew = xarr / self.oversample + self.sci_cen[0]\n",
    "        ynew = yarr / self.oversample + self.sci_cen[1]\n",
    "\n",
    "        # Convert requested coordinates to 'idl' coordinates\n",
    "        xnew_idl, ynew_idl = self.distort_coords(self.Sci2Idl[0],\n",
    "                                                 self.Sci2Idl[1],\n",
    "                                                 xnew - self.SciRef[0],\n",
    "                                                 ynew - self.SciRef[1])\n",
    "\n",
    "        # Create interpolation coordinates\n",
    "        centre = (xnew_idl.shape[0] - 1) / 2\n",
    "\n",
    "        coords_distort = (np.array([ynew_idl - yidl_cen,\n",
    "                                    xnew_idl - xidl_cen])\n",
    "                          / self.pixel_scale) + centre\n",
    "\n",
    "        # Apply distortion\n",
    "        return map_coordinates(image, coords_distort, order=1)\n",
    "\n",
    "    def triangular_number(self, n):\n",
    "        # TODO: Add to utils/math.py\n",
    "        return n * (n + 1) / 2\n",
    "\n",
    "    def distort_coords(self, A, B, X, Y, ):\n",
    "        \"\"\"\n",
    "        Applts the distortion to the coordinates\n",
    "        \"\"\"\n",
    "\n",
    "        # Promote shapes for float inputs\n",
    "        X = np.atleast_2d(X)\n",
    "        Y = np.atleast_2d(Y)\n",
    "\n",
    "        # Exponentiate\n",
    "        Xpow = X[None, :, :] ** self.xpows[:, None, None]\n",
    "        Ypow = Y[None, :, :] ** self.ypows[:, None, None]\n",
    "\n",
    "        # Calcaulate new coordinates\n",
    "        Xnew = np.sum(A[:, None, None] * Xpow * Ypow, axis=0)\n",
    "        Ynew = np.sum(B[:, None, None] * Xpow * Ypow, axis=0)\n",
    "\n",
    "        return Xnew, Ynew"
   ],
   "metadata": {
    "collapsed": false
   }
  },
  {
   "cell_type": "markdown",
   "source": [
    "## Aberrated Primary Mirror\n",
    "Here we have the `JWSTAberratedPrimary` class which is a child of `JWSTPrimary` which adds the functionality to store a Hexike basis and coefficients."
   ],
   "metadata": {
    "collapsed": false
   }
  },
  {
   "cell_type": "code",
   "execution_count": null,
   "outputs": [],
   "source": [
    "from dLuxWebbpsf import JWSTPrimary\n",
    "from abberations import generate_jwst_hexike_basis, generate_jwst_secondary_basis\n",
    "\n",
    "class JWSTAberratedPrimary(JWSTPrimary, dl.optical_layers.BasisLayer):\n",
    "    \"\"\"\n",
    "    Child class of JWSTPrimary which adds the functionality to store a Hexike basis and coefficients.\n",
    "    \"\"\"\n",
    "\n",
    "    def __init__(\n",
    "            self,\n",
    "            transmission: Array,\n",
    "            opd: Array,\n",
    "            coefficients: Array | list = None,\n",
    "            radial_orders: Array | list = None,\n",
    "            noll_indices: Array | list = None,\n",
    "            secondary_coefficients: Array | list = None,\n",
    "            secondary_radial_orders: Array | list = None,\n",
    "            secondary_noll_indices: Array | list = None,\n",
    "            AMI: bool = False,\n",
    "            mask: bool = False,\n",
    "    ):\n",
    "        \"\"\"\n",
    "        Parameters\n",
    "        ----------\n",
    "        transmission: Array\n",
    "            The Array of transmission values to be applied to the input\n",
    "            wavefront.\n",
    "        opd : Array\n",
    "            The Array of OPD values to be applied to the input wavefront.\n",
    "        radial_orders : Array\n",
    "            The radial orders of the zernike polynomials to be used for the\n",
    "            aberrations. Input of [0, 1] would give [Piston, Tilt X, Tilt Y],\n",
    "            [1, 2] would be [Tilt X, Tilt Y, Defocus, Astig X, Astig Y], etc.\n",
    "            The order must be increasing but does not have to be consecutive.\n",
    "            If you want to specify specific zernikes across radial orders the\n",
    "            noll_indices argument should be used instead.\n",
    "        noll_indices : Array\n",
    "            The zernike noll indices to be used for the aberrations. [1, 2, 3]\n",
    "            would give [Piston, Tilt X, Tilt Y], [2, 3, 4] would be [Tilt X,\n",
    "            Tilt Y, Defocus].\n",
    "        coefficients : Array\n",
    "            The coefficients to be applied to the Hexike basis vectors.\n",
    "        AMI : bool\n",
    "            Whether to use the AMI segments or not.\n",
    "        mask : bool\n",
    "            Whether to apodise the basis with the AMI mask or not. Recommended is False.\n",
    "        \"\"\"\n",
    "        npix: int = transmission.shape[0]\n",
    "        super().__init__(transmission=transmission, opd=opd)\n",
    "\n",
    "        # Dealing with the radial_orders and noll_indices arguments\n",
    "        if radial_orders is not None and noll_indices is not None:\n",
    "            print(\"Warning: Both radial_orders and noll_indices provided. Using noll_indices.\")\n",
    "            radial_orders = None\n",
    "\n",
    "        primary_basis = generate_jwst_hexike_basis(\n",
    "            radial_orders=radial_orders,\n",
    "            noll_indices=noll_indices,\n",
    "            npix=npix,\n",
    "            AMI=AMI,\n",
    "            mask=mask,\n",
    "        )\n",
    "\n",
    "        if secondary_radial_orders is not None and secondary_noll_indices is not None:\n",
    "            print(\"Warning: Both secondary_radial_orders and secondary_noll_indices provided. Using \"\n",
    "                  \"secondary_noll_indices.\")\n",
    "            secondary_radial_orders = None\n",
    "\n",
    "        if secondary_coefficients is not None:\n",
    "            secondary_basis = generate_jwst_secondary_basis(\n",
    "                radial_orders=secondary_radial_orders,\n",
    "                noll_indices=secondary_noll_indices,\n",
    "                npix=npix,\n",
    "            )\n",
    "            self.coefficients = {'primary': coefficients, 'secondary': secondary_coefficients}\n",
    "            self.basis = {'primary': primary_basis, 'secondary': secondary_basis}\n",
    "\n",
    "        else:\n",
    "            self.coefficients = np.array(coefficients)\n",
    "            self.basis = np.array(primary_basis)\n",
    "\n",
    "    @property\n",
    "    def basis_opd(self):\n",
    "        \"\"\"\n",
    "        Returns the OPD calculated from the basis and coefficients.\n",
    "        \"\"\"\n",
    "\n",
    "        outputs = jtu.tree_map(lambda b, c: self.calculate(b, c), (self.basis,), (self.coefficients,))\n",
    "        return np.array(jtu.tree_flatten(outputs)[0]).sum(0)\n",
    "\n",
    "    def __call__(self, wavefront):\n",
    "        # Apply transmission and normalise\n",
    "        amplitude = wavefront.amplitude * self.transmission\n",
    "        amplitude /= np.linalg.norm(amplitude)\n",
    "\n",
    "        total_opd = self.opd + self.basis_opd\n",
    "\n",
    "        # Apply phase\n",
    "        phase = wavefront.phase + wavefront.wavenumber * total_opd\n",
    "\n",
    "        # Update and return\n",
    "        return wavefront.set([\"amplitude\", \"phase\"], [amplitude, phase])"
   ],
   "metadata": {
    "collapsed": false
   }
  },
  {
   "cell_type": "markdown",
   "source": [
    "# Building dLux model\n",
    "\n",
    "Here's the stuff we need from WebbPSF..."
   ],
   "metadata": {
    "collapsed": false
   }
  },
  {
   "cell_type": "code",
   "execution_count": 2,
   "metadata": {
    "collapsed": true
   },
   "outputs": [
    {
     "ename": "OSError",
     "evalue": "Environment variable $WEBBPSF_PATH is not set!\n\n ***********  ERROR  ******  ERROR  ******  ERROR  ******  ERROR  ***********\n *                                                                          *\n *  WebbPSF requires several data files to operate.                         *\n *  These files could not be located automatically at this time, or this    *\n *  version of the software requires a newer set of reference files than    *\n *  you have installed.  For more details see:                              *\n *                                                                          *\n *        https://webbpsf.readthedocs.io/en/stable/installation.html        *\n *                                                                          *\n *  under \"Installing the Required Data Files\".                             *\n *  WebbPSF will not be able to function properly until the appropriate     *\n *  reference files have been downloaded to your machine and installed.     *\n *                                                                          *\n ****************************************************************************\n",
     "output_type": "error",
     "traceback": [
      "\u001B[0;31m---------------------------------------------------------------------------\u001B[0m",
      "\u001B[0;31mOSError\u001B[0m                                   Traceback (most recent call last)",
      "Cell \u001B[0;32mIn[2], line 2\u001B[0m\n\u001B[1;32m      1\u001B[0m \u001B[38;5;66;03m# Primary mirror - note this class automatically flips about the y-axis\u001B[39;00m\n\u001B[0;32m----> 2\u001B[0m webbpsfobj \u001B[38;5;241m=\u001B[39m \u001B[43mwebbpsf\u001B[49m\u001B[38;5;241;43m.\u001B[39;49m\u001B[43mNIRISS\u001B[49m\u001B[43m(\u001B[49m\u001B[43m)\u001B[49m\n\u001B[1;32m      3\u001B[0m webbpsfobj\u001B[38;5;241m.\u001B[39mcalc_psf()  \u001B[38;5;66;03m# calculating fits files\u001B[39;00m\n\u001B[1;32m      4\u001B[0m webbpsfobj\u001B[38;5;241m.\u001B[39mpupil_mask \u001B[38;5;241m=\u001B[39m \u001B[38;5;124m\"\u001B[39m\u001B[38;5;124mMASK_NRM\u001B[39m\u001B[38;5;124m\"\u001B[39m\n",
      "File \u001B[0;32m~/miniconda3/envs/dLux/lib/python3.10/site-packages/webbpsf/webbpsf_core.py:2501\u001B[0m, in \u001B[0;36mNIRISS.__init__\u001B[0;34m(self, auto_pupil)\u001B[0m\n\u001B[1;32m   2499\u001B[0m \u001B[38;5;28;01mdef\u001B[39;00m \u001B[38;5;21m__init__\u001B[39m(\u001B[38;5;28mself\u001B[39m, auto_pupil\u001B[38;5;241m=\u001B[39m\u001B[38;5;28;01mTrue\u001B[39;00m):\n\u001B[1;32m   2500\u001B[0m     \u001B[38;5;28mself\u001B[39m\u001B[38;5;241m.\u001B[39mauto_pupil \u001B[38;5;241m=\u001B[39m auto_pupil\n\u001B[0;32m-> 2501\u001B[0m     \u001B[43mJWInstrument\u001B[49m\u001B[38;5;241;43m.\u001B[39;49m\u001B[38;5;21;43m__init__\u001B[39;49m\u001B[43m(\u001B[49m\u001B[38;5;28;43mself\u001B[39;49m\u001B[43m,\u001B[49m\u001B[43m \u001B[49m\u001B[38;5;124;43m\"\u001B[39;49m\u001B[38;5;124;43mNIRISS\u001B[39;49m\u001B[38;5;124;43m\"\u001B[39;49m\u001B[43m)\u001B[49m\n\u001B[1;32m   2502\u001B[0m     \u001B[38;5;28mself\u001B[39m\u001B[38;5;241m.\u001B[39mpixelscale \u001B[38;5;241m=\u001B[39m \u001B[38;5;241m0.065657\u001B[39m  \u001B[38;5;66;03m# Average of X and Y scales, SIAF PRDOPSSOC-059, 2022 Dec\u001B[39;00m\n\u001B[1;32m   2504\u001B[0m     \u001B[38;5;28mself\u001B[39m\u001B[38;5;241m.\u001B[39moptions[\u001B[38;5;124m'\u001B[39m\u001B[38;5;124mpupil_shift_x\u001B[39m\u001B[38;5;124m'\u001B[39m] \u001B[38;5;241m=\u001B[39m \u001B[38;5;241m0.0243\u001B[39m  \u001B[38;5;66;03m# CV3 on-orbit estimate (RPT028027) + OTIS delta from predicted (037134)\u001B[39;00m\n",
      "File \u001B[0;32m~/miniconda3/envs/dLux/lib/python3.10/site-packages/webbpsf/webbpsf_core.py:746\u001B[0m, in \u001B[0;36mJWInstrument.__init__\u001B[0;34m(self, *args, **kwargs)\u001B[0m\n\u001B[1;32m    745\u001B[0m \u001B[38;5;28;01mdef\u001B[39;00m \u001B[38;5;21m__init__\u001B[39m(\u001B[38;5;28mself\u001B[39m, \u001B[38;5;241m*\u001B[39margs, \u001B[38;5;241m*\u001B[39m\u001B[38;5;241m*\u001B[39mkwargs):\n\u001B[0;32m--> 746\u001B[0m     \u001B[38;5;28;43msuper\u001B[39;49m\u001B[43m(\u001B[49m\u001B[43mJWInstrument\u001B[49m\u001B[43m,\u001B[49m\u001B[43m \u001B[49m\u001B[38;5;28;43mself\u001B[39;49m\u001B[43m)\u001B[49m\u001B[38;5;241;43m.\u001B[39;49m\u001B[38;5;21;43m__init__\u001B[39;49m\u001B[43m(\u001B[49m\u001B[38;5;241;43m*\u001B[39;49m\u001B[43margs\u001B[49m\u001B[43m,\u001B[49m\u001B[43m \u001B[49m\u001B[38;5;241;43m*\u001B[39;49m\u001B[38;5;241;43m*\u001B[39;49m\u001B[43mkwargs\u001B[49m\u001B[43m)\u001B[49m\n\u001B[1;32m    748\u001B[0m     \u001B[38;5;28mself\u001B[39m\u001B[38;5;241m.\u001B[39msiaf \u001B[38;5;241m=\u001B[39m pysiaf\u001B[38;5;241m.\u001B[39mSiaf(\u001B[38;5;28mself\u001B[39m\u001B[38;5;241m.\u001B[39mname)\n\u001B[1;32m    750\u001B[0m     opd_path \u001B[38;5;241m=\u001B[39m os\u001B[38;5;241m.\u001B[39mpath\u001B[38;5;241m.\u001B[39mjoin(\u001B[38;5;28mself\u001B[39m\u001B[38;5;241m.\u001B[39m_datapath, \u001B[38;5;124m'\u001B[39m\u001B[38;5;124mOPD\u001B[39m\u001B[38;5;124m'\u001B[39m)\n",
      "File \u001B[0;32m~/miniconda3/envs/dLux/lib/python3.10/site-packages/webbpsf/webbpsf_core.py:177\u001B[0m, in \u001B[0;36mSpaceTelescopeInstrument.__init__\u001B[0;34m(self, name, pixelscale)\u001B[0m\n\u001B[1;32m    174\u001B[0m \u001B[38;5;28;01mdef\u001B[39;00m \u001B[38;5;21m__init__\u001B[39m(\u001B[38;5;28mself\u001B[39m, name\u001B[38;5;241m=\u001B[39m\u001B[38;5;124m\"\u001B[39m\u001B[38;5;124m\"\u001B[39m, pixelscale\u001B[38;5;241m=\u001B[39m\u001B[38;5;241m0.064\u001B[39m):\n\u001B[1;32m    175\u001B[0m     \u001B[38;5;28mself\u001B[39m\u001B[38;5;241m.\u001B[39mname \u001B[38;5;241m=\u001B[39m name\n\u001B[0;32m--> 177\u001B[0m     \u001B[38;5;28mself\u001B[39m\u001B[38;5;241m.\u001B[39m_WebbPSF_basepath, \u001B[38;5;28mself\u001B[39m\u001B[38;5;241m.\u001B[39m_data_version \u001B[38;5;241m=\u001B[39m \u001B[43mutils\u001B[49m\u001B[38;5;241;43m.\u001B[39;49m\u001B[43mget_webbpsf_data_path\u001B[49m\u001B[43m(\u001B[49m\n\u001B[1;32m    178\u001B[0m \u001B[43m        \u001B[49m\u001B[43mdata_version_min\u001B[49m\u001B[38;5;241;43m=\u001B[39;49m\u001B[43mDATA_VERSION_MIN\u001B[49m\u001B[43m,\u001B[49m\u001B[43m \u001B[49m\u001B[43mreturn_version\u001B[49m\u001B[38;5;241;43m=\u001B[39;49m\u001B[38;5;28;43;01mTrue\u001B[39;49;00m\u001B[43m)\u001B[49m\n\u001B[1;32m    180\u001B[0m     \u001B[38;5;28mself\u001B[39m\u001B[38;5;241m.\u001B[39m_datapath \u001B[38;5;241m=\u001B[39m os\u001B[38;5;241m.\u001B[39mpath\u001B[38;5;241m.\u001B[39mjoin(\u001B[38;5;28mself\u001B[39m\u001B[38;5;241m.\u001B[39m_WebbPSF_basepath, \u001B[38;5;28mself\u001B[39m\u001B[38;5;241m.\u001B[39mname)\n\u001B[1;32m    181\u001B[0m     \u001B[38;5;28mself\u001B[39m\u001B[38;5;241m.\u001B[39m_image_mask \u001B[38;5;241m=\u001B[39m \u001B[38;5;28;01mNone\u001B[39;00m\n",
      "File \u001B[0;32m~/miniconda3/envs/dLux/lib/python3.10/site-packages/webbpsf/utils.py:204\u001B[0m, in \u001B[0;36mget_webbpsf_data_path\u001B[0;34m(data_version_min, return_version)\u001B[0m\n\u001B[1;32m    202\u001B[0m     path \u001B[38;5;241m=\u001B[39m os\u001B[38;5;241m.\u001B[39mgetenv(\u001B[38;5;124m'\u001B[39m\u001B[38;5;124mWEBBPSF_PATH\u001B[39m\u001B[38;5;124m'\u001B[39m)\n\u001B[1;32m    203\u001B[0m     \u001B[38;5;28;01mif\u001B[39;00m path \u001B[38;5;129;01mis\u001B[39;00m \u001B[38;5;28;01mNone\u001B[39;00m:\n\u001B[0;32m--> 204\u001B[0m         \u001B[38;5;28;01mraise\u001B[39;00m \u001B[38;5;167;01mEnvironmentError\u001B[39;00m(\u001B[38;5;124mf\u001B[39m\u001B[38;5;124m\"\u001B[39m\u001B[38;5;124mEnvironment variable $WEBBPSF_PATH is not set!\u001B[39m\u001B[38;5;130;01m\\n\u001B[39;00m\u001B[38;5;132;01m{\u001B[39;00mMISSING_WEBBPSF_DATA_MESSAGE\u001B[38;5;132;01m}\u001B[39;00m\u001B[38;5;124m\"\u001B[39m)\n\u001B[1;32m    205\u001B[0m \u001B[38;5;28;01melse\u001B[39;00m:\n\u001B[1;32m    206\u001B[0m     path \u001B[38;5;241m=\u001B[39m path_from_config\n",
      "\u001B[0;31mOSError\u001B[0m: Environment variable $WEBBPSF_PATH is not set!\n\n ***********  ERROR  ******  ERROR  ******  ERROR  ******  ERROR  ***********\n *                                                                          *\n *  WebbPSF requires several data files to operate.                         *\n *  These files could not be located automatically at this time, or this    *\n *  version of the software requires a newer set of reference files than    *\n *  you have installed.  For more details see:                              *\n *                                                                          *\n *        https://webbpsf.readthedocs.io/en/stable/installation.html        *\n *                                                                          *\n *  under \"Installing the Required Data Files\".                             *\n *  WebbPSF will not be able to function properly until the appropriate     *\n *  reference files have been downloaded to your machine and installed.     *\n *                                                                          *\n ****************************************************************************\n"
     ]
    }
   ],
   "source": [
    "# Primary mirror - note this class automatically flips about the y-axis\n",
    "webbpsfobj = webbpsf.NIRISS()\n",
    "webbpsfobj.calc_psf()  # calculating fits files\n",
    "webbpsfobj.pupil_mask = \"MASK_NRM\"\n",
    "NIS_CEN_aperture = webbpsfobj.siaf.apertures[\"NIS_CEN\"]\n",
    "webbpsf_osys = webbpsfobj.get_optical_system()\n",
    "planes = webbpsf_osys.planes"
   ]
  },
  {
   "cell_type": "markdown",
   "source": [
    "Just initialising parameters of the model, including"
   ],
   "metadata": {
    "collapsed": false
   }
  },
  {
   "cell_type": "code",
   "execution_count": null,
   "outputs": [],
   "source": [
    "radial_orders = np.array([0, 1, 2], dtype=int)\n",
    "hexike_shape = (7, int(np.sum(np.array([dl.utils.triangular_number(i+1) - dl.utils.triangular_number(i) for i in radial_orders]))))\n",
    "\n",
    "true_flux = 1e6\n",
    "true_coeffs = 1e-7 * jr.normal(jr.PRNGKey(0), hexike_shape)"
   ],
   "metadata": {
    "collapsed": false
   }
  },
  {
   "cell_type": "code",
   "execution_count": null,
   "outputs": [],
   "source": [
    "npix = 1024\n",
    "oversample = 4\n",
    "pscale = (planes[-1].pixelscale).to(\"arcsec/pix\").value\n",
    "pupil_plane = planes[-2]\n",
    "\n",
    "osys = dl.LayeredOptics(\n",
    "    wf_npixels=1024,\n",
    "    diameter=planes[0].pixelscale.to(\"m/pix\").value * planes[0].npix,\n",
    "    layers=[\n",
    "        (JWSTAberratedPrimary(\n",
    "            planes[0].amplitude,\n",
    "            planes[0].opd,\n",
    "            radial_orders=radial_orders,\n",
    "            coefficients=true_coeffs,\n",
    "            AMI=False,  # FALSE FOR FULL PUPILL\n",
    "        ), \"Pupil\"),\n",
    "        (dl.Flip(0), \"InvertY\"),\n",
    "        (dl.Optic(pupil_plane.amplitude), \"Mask\"),\n",
    "        (dlW.MFT(npixels=oversample * 64, oversample=oversample, pixel_scale=pscale), \"Propagator\"),\n",
    "    ]\n",
    ")\n",
    "\n",
    "src = dl.PointSource(flux=true_flux, **dict(np.load(\"filter_configs/F480M.npz\")))\n",
    "detector = dl.LayeredDetector(\n",
    "    [\n",
    "        dlW.detector_layers.Rotate(-d2r(getattr(NIS_CEN_aperture, \"V3IdlYAngle\"))),\n",
    "        DistortionFromSiaf(\n",
    "            aperture=NIS_CEN_aperture\n",
    "        ),  # TODO implement dLuxWebbpsf version\n",
    "        dl.IntegerDownsample(kernel_size=4),  # Downsample to detector pixel scale\n",
    "    ]\n",
    ")\n",
    "\n",
    "instrument = dl.Instrument(sources=[src], detector=detector, optics=osys)"
   ],
   "metadata": {
    "collapsed": false
   }
  },
  {
   "cell_type": "markdown",
   "source": [
    "## PSF time\n",
    "surely"
   ],
   "metadata": {
    "collapsed": false
   }
  },
  {
   "cell_type": "code",
   "execution_count": null,
   "outputs": [],
   "source": [
    "plt.imshow(instrument.model())"
   ],
   "metadata": {
    "collapsed": false
   }
  }
 ],
 "metadata": {
  "kernelspec": {
   "display_name": "Python 3",
   "language": "python",
   "name": "python3"
  },
  "language_info": {
   "codemirror_mode": {
    "name": "ipython",
    "version": 2
   },
   "file_extension": ".py",
   "mimetype": "text/x-python",
   "name": "python",
   "nbconvert_exporter": "python",
   "pygments_lexer": "ipython2",
   "version": "2.7.6"
  }
 },
 "nbformat": 4,
 "nbformat_minor": 0
}
