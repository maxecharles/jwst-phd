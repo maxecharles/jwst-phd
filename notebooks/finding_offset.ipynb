{
 "cells": [
  {
   "cell_type": "markdown",
   "source": [
    "# Finding data offset\n",
    "We want to find the centroid offset for all data frames of HD-37093 taken in the commissioning run. First let's see this all works for a single frame (the first)"
   ],
   "metadata": {
    "collapsed": false
   }
  },
  {
   "cell_type": "code",
   "execution_count": 2,
   "metadata": {
    "collapsed": true,
    "ExecuteTime": {
     "end_time": "2023-08-25T06:45:39.068276Z",
     "start_time": "2023-08-25T06:45:36.529004Z"
    }
   },
   "outputs": [
    {
     "name": "stderr",
     "output_type": "stream",
     "text": [
      "**WARNING**: LOCAL JWST PRD VERSION PRDOPSSOC-059 CANNOT BE CHECKED AGAINST ONLINE VERSION\n"
     ]
    },
    {
     "name": "stdout",
     "output_type": "stream",
     "text": [
      "dLux: Jax is running in 32-bit, to enable 64-bit visit: https://jax.readthedocs.io/en/latest/notebooks/Common_Gotchas_in_JAX.html#double-64bit-precision\n"
     ]
    }
   ],
   "source": [
    "from astropy.io import fits\n",
    "import pandas as pd\n",
    "import webbpsf\n",
    "import dLux as dl\n",
    "from dLux.utils import deg_to_rad as d2r\n",
    "from dLux.utils import rad_to_arcsec as r2a\n",
    "from dLux.utils import arcsec_to_rad as a2r\n",
    "import jax.numpy as np\n",
    "from optics import NIRISSOptics\n",
    "from utils import plot_and_compare\n",
    "from scipy.optimize import minimize\n",
    "from detector_layers import DistortionFromSiaf\n",
    "import matplotlib.pyplot as plt\n",
    "\n",
    "plt.rcParams['image.origin'] = 'lower'"
   ]
  },
  {
   "cell_type": "markdown",
   "source": [
    "String manipulation for reading in the data files."
   ],
   "metadata": {
    "collapsed": false
   }
  },
  {
   "cell_type": "code",
   "execution_count": 3,
   "outputs": [],
   "source": [
    "data_path = 'data/calints/'\n",
    "info_path = 'data/comm_1093_exposure_info_epoch2.txt'\n",
    "\n",
    "def uncal_to_calints(filename):\n",
    "    return filename[:-10] + 'calints.fits'"
   ],
   "metadata": {
    "collapsed": false,
    "ExecuteTime": {
     "end_time": "2023-08-25T06:45:39.068534Z",
     "start_time": "2023-08-25T06:45:39.065575Z"
    }
   }
  },
  {
   "cell_type": "markdown",
   "source": [
    "Reading in the data"
   ],
   "metadata": {
    "collapsed": false
   }
  },
  {
   "cell_type": "code",
   "execution_count": 4,
   "outputs": [],
   "source": [
    "# DATA\n",
    "# reading table to pandas dataframe\n",
    "df = pd.read_table(info_path, sep='\\s+', header=0, skiprows=[1])\n",
    "\n",
    "# selecting HD-37093 target\n",
    "HD37093 = df[df['TARGPROP'] == 'HD-37093']\n",
    "\n",
    "file_idx = 0  # selecting first file\n",
    "HDUList = fits.open(data_path + uncal_to_calints(list(HD37093['DISKNAME'])[file_idx]))\n",
    "\"\"\"\n",
    "`HDUList.info()` returns:\n",
    "No.    Name      Ver    Type      Cards   Dimensions   Format\n",
    "  0  PRIMARY       1 PrimaryHDU     319   ()\n",
    "  1  SCI           1 ImageHDU        74   (64, 64, 1)   float32\n",
    "  2  ERR           1 ImageHDU        11   (64, 64, 1)   float32\n",
    "  3  DQ            1 ImageHDU        12   (64, 64, 1)   int32 (rescales to uint32)\n",
    "  4  INT_TIMES     1 BinTableHDU     24   0R x 7C       [J, D, D, D, D, D, D]\n",
    "  5  VAR_POISSON   1 ImageHDU        10   (64, 64, 1)   float32\n",
    "  6  VAR_RNOISE    1 ImageHDU        10   (64, 64, 1)   float32\n",
    "  7  VAR_FLAT      1 ImageHDU        10   (64, 64, 1)   float32\n",
    "  8  ASDF          1 BinTableHDU     11   1R x 1C       [23361B]\n",
    "\"\"\"\n",
    "\n",
    "filt = list(HD37093['FILTER'])[file_idx]\n",
    "\n",
    "sci_frame = np.array(HDUList['SCI'].data[0])\n",
    "sci_frame_norm = sci_frame/sci_frame.sum()"
   ],
   "metadata": {
    "collapsed": false,
    "ExecuteTime": {
     "end_time": "2023-08-25T06:45:39.108253Z",
     "start_time": "2023-08-25T06:45:39.069257Z"
    }
   }
  },
  {
   "cell_type": "markdown",
   "source": [
    "Building the model"
   ],
   "metadata": {
    "collapsed": false
   }
  },
  {
   "cell_type": "code",
   "execution_count": 13,
   "outputs": [
    {
     "ename": "ValueError",
     "evalue": "Must specify either radial_orders or noll_indices",
     "output_type": "error",
     "traceback": [
      "\u001B[0;31m---------------------------------------------------------------------------\u001B[0m",
      "\u001B[0;31mValueError\u001B[0m                                Traceback (most recent call last)",
      "Cell \u001B[0;32mIn[13], line 6\u001B[0m\n\u001B[1;32m      3\u001B[0m webbpsfobj\u001B[38;5;241m.\u001B[39mcalc_psf()  \u001B[38;5;66;03m# calculating fits files\u001B[39;00m\n\u001B[1;32m      4\u001B[0m NIS_CEN_aperture \u001B[38;5;241m=\u001B[39m webbpsfobj\u001B[38;5;241m.\u001B[39msiaf\u001B[38;5;241m.\u001B[39mapertures[\u001B[38;5;124m'\u001B[39m\u001B[38;5;124mNIS_CEN\u001B[39m\u001B[38;5;124m'\u001B[39m]\n\u001B[0;32m----> 6\u001B[0m osys \u001B[38;5;241m=\u001B[39m \u001B[43mNIRISSOptics\u001B[49m\u001B[43m(\u001B[49m\u001B[43m)\u001B[49m\n\u001B[1;32m      7\u001B[0m det \u001B[38;5;241m=\u001B[39m dl\u001B[38;5;241m.\u001B[39mLayeredDetector([\n\u001B[1;32m      8\u001B[0m     dl\u001B[38;5;241m.\u001B[39mdetector_layers\u001B[38;5;241m.\u001B[39mRotateDetector(\u001B[38;5;241m-\u001B[39md2r(\u001B[38;5;28mgetattr\u001B[39m(NIS_CEN_aperture, \u001B[38;5;124m\"\u001B[39m\u001B[38;5;124mV3IdlYAngle\u001B[39m\u001B[38;5;124m\"\u001B[39m)), order\u001B[38;5;241m=\u001B[39m\u001B[38;5;241m3\u001B[39m),  \u001B[38;5;66;03m# Rotates PSF\u001B[39;00m\n\u001B[1;32m      9\u001B[0m     DistortionFromSiaf(aperture\u001B[38;5;241m=\u001B[39mNIS_CEN_aperture),  \u001B[38;5;66;03m# Wavefront sphere to wavefront plane\u001B[39;00m\n\u001B[1;32m     10\u001B[0m     dl\u001B[38;5;241m.\u001B[39mIntegerDownsample(kernel_size\u001B[38;5;241m=\u001B[39m\u001B[38;5;241m4\u001B[39m),  \u001B[38;5;66;03m# Downsample to detector pixel scale\u001B[39;00m\n\u001B[1;32m     11\u001B[0m     \u001B[38;5;66;03m# ApplyBFE(1e-6),  # Apply BFE\u001B[39;00m\n\u001B[1;32m     12\u001B[0m ])\n",
      "File \u001B[0;32m~/miniconda3/envs/dLux/lib/python3.10/site-packages/equinox/_module.py:185\u001B[0m, in \u001B[0;36m_ModuleMeta.__call__\u001B[0;34m(cls, *args, **kwargs)\u001B[0m\n\u001B[1;32m    182\u001B[0m \u001B[38;5;28;01mdef\u001B[39;00m \u001B[38;5;21m__call__\u001B[39m(\u001B[38;5;28mcls\u001B[39m, \u001B[38;5;241m*\u001B[39margs, \u001B[38;5;241m*\u001B[39m\u001B[38;5;241m*\u001B[39mkwargs):\n\u001B[1;32m    183\u001B[0m     \u001B[38;5;66;03m# Defreeze it during __init__\u001B[39;00m\n\u001B[1;32m    184\u001B[0m     initable_cls \u001B[38;5;241m=\u001B[39m _make_initable(\u001B[38;5;28mcls\u001B[39m, wraps\u001B[38;5;241m=\u001B[39m\u001B[38;5;28;01mFalse\u001B[39;00m)\n\u001B[0;32m--> 185\u001B[0m     \u001B[38;5;28mself\u001B[39m \u001B[38;5;241m=\u001B[39m \u001B[38;5;28;43msuper\u001B[39;49m\u001B[43m(\u001B[49m\u001B[43m_ModuleMeta\u001B[49m\u001B[43m,\u001B[49m\u001B[43m \u001B[49m\u001B[43minitable_cls\u001B[49m\u001B[43m)\u001B[49m\u001B[38;5;241;43m.\u001B[39;49m\u001B[38;5;21;43m__call__\u001B[39;49m\u001B[43m(\u001B[49m\u001B[38;5;241;43m*\u001B[39;49m\u001B[43margs\u001B[49m\u001B[43m,\u001B[49m\u001B[43m \u001B[49m\u001B[38;5;241;43m*\u001B[39;49m\u001B[38;5;241;43m*\u001B[39;49m\u001B[43mkwargs\u001B[49m\u001B[43m)\u001B[49m\n\u001B[1;32m    186\u001B[0m     missing_names \u001B[38;5;241m=\u001B[39m {\n\u001B[1;32m    187\u001B[0m         field\u001B[38;5;241m.\u001B[39mname\n\u001B[1;32m    188\u001B[0m         \u001B[38;5;28;01mfor\u001B[39;00m field \u001B[38;5;129;01min\u001B[39;00m dataclasses\u001B[38;5;241m.\u001B[39mfields(\u001B[38;5;28mcls\u001B[39m)  \u001B[38;5;66;03m# pyright: ignore\u001B[39;00m\n\u001B[1;32m    189\u001B[0m         \u001B[38;5;28;01mif\u001B[39;00m field\u001B[38;5;241m.\u001B[39minit \u001B[38;5;129;01mand\u001B[39;00m field\u001B[38;5;241m.\u001B[39mname \u001B[38;5;129;01mnot\u001B[39;00m \u001B[38;5;129;01min\u001B[39;00m \u001B[38;5;28mdir\u001B[39m(\u001B[38;5;28mself\u001B[39m)\n\u001B[1;32m    190\u001B[0m     }\n\u001B[1;32m    191\u001B[0m     \u001B[38;5;28;01mif\u001B[39;00m \u001B[38;5;28mlen\u001B[39m(missing_names):\n",
      "File \u001B[0;32m~/miniconda3/envs/dLux/lib/python3.10/site-packages/equinox/_better_abstract.py:280\u001B[0m, in \u001B[0;36mABCMeta.__call__\u001B[0;34m(cls, *args, **kwargs)\u001B[0m\n\u001B[1;32m    275\u001B[0m     abstract_class_vars \u001B[38;5;241m=\u001B[39m \u001B[38;5;28mset\u001B[39m(\u001B[38;5;28mcls\u001B[39m\u001B[38;5;241m.\u001B[39m__abstractclassvars__)  \u001B[38;5;66;03m# pyright: ignore\u001B[39;00m\n\u001B[1;32m    276\u001B[0m     \u001B[38;5;28;01mraise\u001B[39;00m \u001B[38;5;167;01mTypeError\u001B[39;00m(\n\u001B[1;32m    277\u001B[0m         \u001B[38;5;124mf\u001B[39m\u001B[38;5;124m\"\u001B[39m\u001B[38;5;124mCan\u001B[39m\u001B[38;5;124m'\u001B[39m\u001B[38;5;124mt instantiate abstract class \u001B[39m\u001B[38;5;132;01m{\u001B[39;00m\u001B[38;5;28mcls\u001B[39m\u001B[38;5;241m.\u001B[39m\u001B[38;5;18m__name__\u001B[39m\u001B[38;5;132;01m}\u001B[39;00m\u001B[38;5;124m with abstract class \u001B[39m\u001B[38;5;124m\"\u001B[39m\n\u001B[1;32m    278\u001B[0m         \u001B[38;5;124mf\u001B[39m\u001B[38;5;124m\"\u001B[39m\u001B[38;5;124mattributes \u001B[39m\u001B[38;5;132;01m{\u001B[39;00mabstract_class_vars\u001B[38;5;132;01m}\u001B[39;00m\u001B[38;5;124m\"\u001B[39m\n\u001B[1;32m    279\u001B[0m     )\n\u001B[0;32m--> 280\u001B[0m \u001B[38;5;28mself\u001B[39m \u001B[38;5;241m=\u001B[39m \u001B[38;5;28;43msuper\u001B[39;49m\u001B[43m(\u001B[49m\u001B[43m)\u001B[49m\u001B[38;5;241;43m.\u001B[39;49m\u001B[38;5;21;43m__call__\u001B[39;49m\u001B[43m(\u001B[49m\u001B[38;5;241;43m*\u001B[39;49m\u001B[43margs\u001B[49m\u001B[43m,\u001B[49m\u001B[43m \u001B[49m\u001B[38;5;241;43m*\u001B[39;49m\u001B[38;5;241;43m*\u001B[39;49m\u001B[43mkwargs\u001B[49m\u001B[43m)\u001B[49m\n\u001B[1;32m    281\u001B[0m abstract_vars \u001B[38;5;241m=\u001B[39m \u001B[38;5;28mset\u001B[39m()\n\u001B[1;32m    282\u001B[0m \u001B[38;5;28;01mfor\u001B[39;00m name \u001B[38;5;129;01min\u001B[39;00m \u001B[38;5;28mcls\u001B[39m\u001B[38;5;241m.\u001B[39m__abstractvars__:  \u001B[38;5;66;03m# pyright: ignore\u001B[39;00m\n\u001B[1;32m    283\u001B[0m     \u001B[38;5;66;03m# Deliberately not doing `if name in self.__dict__` to allow for use of\u001B[39;00m\n\u001B[1;32m    284\u001B[0m     \u001B[38;5;66;03m# properties (which are actually class attributes) to override abstract\u001B[39;00m\n\u001B[1;32m    285\u001B[0m     \u001B[38;5;66;03m# instance variables.\u001B[39;00m\n",
      "File \u001B[0;32m~/Library/CloudStorage/OneDrive-TheUniversityofSydney(Students)/PyCharm/jwst/optics.py:155\u001B[0m, in \u001B[0;36m__init__\u001B[0;34m(self, wf_npixels, aperture, mask, psf_pixel_scale, psf_oversample, psf_npixels, FDA, aberrations, zernike_coeffs, basis)\u001B[0m\n\u001B[1;32m    152\u001B[0m \u001B[38;5;28;01melse\u001B[39;00m:\n\u001B[1;32m    153\u001B[0m     \u001B[38;5;28mself\u001B[39m\u001B[38;5;241m.\u001B[39mzernike_coeffs \u001B[38;5;241m=\u001B[39m np\u001B[38;5;241m.\u001B[39mzeros(\u001B[38;5;241m36\u001B[39m)\n\u001B[0;32m--> 155\u001B[0m \u001B[38;5;28;01mif\u001B[39;00m basis \u001B[38;5;129;01mis\u001B[39;00m \u001B[38;5;28;01mNone\u001B[39;00m:\n\u001B[1;32m    156\u001B[0m     \u001B[38;5;28mself\u001B[39m\u001B[38;5;241m.\u001B[39mBasis \u001B[38;5;241m=\u001B[39m generate_jwst_hexike_basis(npix\u001B[38;5;241m=\u001B[39mwf_npixels, AMI\u001B[38;5;241m=\u001B[39m\u001B[38;5;28;01mTrue\u001B[39;00m)\n\u001B[1;32m    157\u001B[0m \u001B[38;5;28;01melse\u001B[39;00m:\n",
      "File \u001B[0;32m~/Library/CloudStorage/OneDrive-TheUniversityofSydney(Students)/PyCharm/jwst/bases.py:65\u001B[0m, in \u001B[0;36mgenerate_jwst_hexike_basis\u001B[0;34m(npix, radial_orders, noll_indices, AMI, mask)\u001B[0m\n\u001B[1;32m     62\u001B[0m     noll_indices \u001B[38;5;241m=\u001B[39m np\u001B[38;5;241m.\u001B[39mconcatenate(noll_indices)\n\u001B[1;32m     64\u001B[0m \u001B[38;5;28;01melif\u001B[39;00m noll_indices \u001B[38;5;129;01mis\u001B[39;00m \u001B[38;5;28;01mNone\u001B[39;00m:\n\u001B[0;32m---> 65\u001B[0m     \u001B[38;5;28;01mraise\u001B[39;00m \u001B[38;5;167;01mValueError\u001B[39;00m(\u001B[38;5;124m\"\u001B[39m\u001B[38;5;124mMust specify either radial_orders or noll_indices\u001B[39m\u001B[38;5;124m\"\u001B[39m)\n\u001B[1;32m     67\u001B[0m \u001B[38;5;28;01mif\u001B[39;00m noll_indices \u001B[38;5;129;01mis\u001B[39;00m \u001B[38;5;129;01mnot\u001B[39;00m \u001B[38;5;28;01mNone\u001B[39;00m:\n\u001B[1;32m     68\u001B[0m     noll_indices \u001B[38;5;241m=\u001B[39m np\u001B[38;5;241m.\u001B[39marray(noll_indices, dtype\u001B[38;5;241m=\u001B[39m\u001B[38;5;28mint\u001B[39m)\n",
      "\u001B[0;31mValueError\u001B[0m: Must specify either radial_orders or noll_indices"
     ]
    }
   ],
   "source": [
    "# MODEL\n",
    "webbpsfobj = webbpsf.NIRISS()\n",
    "webbpsfobj.calc_psf()  # calculating fits files\n",
    "NIS_CEN_aperture = webbpsfobj.siaf.apertures['NIS_CEN']\n",
    "\n",
    "osys = NIRISSOptics()\n",
    "det = dl.LayeredDetector([\n",
    "    dl.detector_layers.RotateDetector(-d2r(getattr(NIS_CEN_aperture, \"V3IdlYAngle\")), order=3),  # Rotates PSF\n",
    "    DistortionFromSiaf(aperture=NIS_CEN_aperture),  # Wavefront sphere to wavefront plane\n",
    "    dl.IntegerDownsample(kernel_size=4),  # Downsample to detector pixel scale\n",
    "    # ApplyBFE(1e-6),  # Apply BFE\n",
    "])"
   ],
   "metadata": {
    "collapsed": false,
    "ExecuteTime": {
     "end_time": "2023-08-23T02:29:13.859962Z",
     "start_time": "2023-08-23T02:29:06.954516Z"
    }
   }
  },
  {
   "cell_type": "code",
   "execution_count": null,
   "outputs": [],
   "source": [
    "a2r(webbpsfobj.pixelscale)"
   ],
   "metadata": {
    "collapsed": false,
    "ExecuteTime": {
     "start_time": "2023-08-23T02:28:54.201303Z"
    }
   }
  },
  {
   "cell_type": "markdown",
   "source": [
    "Defining the model and loss functions"
   ],
   "metadata": {
    "collapsed": false
   }
  },
  {
   "cell_type": "code",
   "execution_count": 8,
   "outputs": [],
   "source": [
    "def model(xoffset, yoffset):\n",
    "    src = dl.PointSource(position=a2r(np.array([xoffset, yoffset])), **dict(np.load(f'filter_configs/{filt}.npz')))\n",
    "    instrument = dl.Instrument(optics=osys, sources=src, detector=det)\n",
    "    psf = instrument.model()\n",
    "    psf = psf[6:-6, 6:-6]\n",
    "    return psf/psf.sum()\n",
    "\n",
    "\n",
    "def loss_fn(params):\n",
    "    xoffset, yoffset = params\n",
    "    generated_pattern = model(xoffset, yoffset)\n",
    "    diff = sci_frame_norm - generated_pattern\n",
    "    mse = np.mean(diff**2)\n",
    "    return mse"
   ],
   "metadata": {
    "collapsed": false,
    "ExecuteTime": {
     "end_time": "2023-08-23T02:28:59.778488Z",
     "start_time": "2023-08-23T02:28:59.770713Z"
    }
   }
  },
  {
   "cell_type": "markdown",
   "source": [
    "Running gradient descent (note decreased tolerance)"
   ],
   "metadata": {
    "collapsed": false
   }
  },
  {
   "cell_type": "code",
   "execution_count": 9,
   "outputs": [
    {
     "ename": "NameError",
     "evalue": "name 'osys' is not defined",
     "output_type": "error",
     "traceback": [
      "\u001B[0;31m---------------------------------------------------------------------------\u001B[0m",
      "\u001B[0;31mNameError\u001B[0m                                 Traceback (most recent call last)",
      "Cell \u001B[0;32mIn[9], line 2\u001B[0m\n\u001B[1;32m      1\u001B[0m initial_guess \u001B[38;5;241m=\u001B[39m np\u001B[38;5;241m.\u001B[39marray([\u001B[38;5;241m0.\u001B[39m, \u001B[38;5;241m0.\u001B[39m])  \u001B[38;5;66;03m# Initial guess for xoffset and yoffset\u001B[39;00m\n\u001B[0;32m----> 2\u001B[0m result \u001B[38;5;241m=\u001B[39m \u001B[43mminimize\u001B[49m\u001B[43m(\u001B[49m\u001B[43mloss_fn\u001B[49m\u001B[43m,\u001B[49m\u001B[43m \u001B[49m\u001B[43minitial_guess\u001B[49m\u001B[43m,\u001B[49m\u001B[43m \u001B[49m\u001B[43mbounds\u001B[49m\u001B[38;5;241;43m=\u001B[39;49m\u001B[43m[\u001B[49m\u001B[43m(\u001B[49m\u001B[38;5;241;43m-\u001B[39;49m\u001B[38;5;241;43m1e-6\u001B[39;49m\u001B[43m,\u001B[49m\u001B[43m \u001B[49m\u001B[38;5;241;43m1e-6\u001B[39;49m\u001B[43m)\u001B[49m\u001B[43m,\u001B[49m\u001B[43m \u001B[49m\u001B[43m(\u001B[49m\u001B[38;5;241;43m-\u001B[39;49m\u001B[38;5;241;43m1e-6\u001B[39;49m\u001B[43m,\u001B[49m\u001B[43m \u001B[49m\u001B[38;5;241;43m1e-6\u001B[39;49m\u001B[43m)\u001B[49m\u001B[43m]\u001B[49m\u001B[43m,\u001B[49m\u001B[43m \u001B[49m\u001B[43mmethod\u001B[49m\u001B[38;5;241;43m=\u001B[39;49m\u001B[38;5;124;43m'\u001B[39;49m\u001B[38;5;124;43mL-BFGS-B\u001B[39;49m\u001B[38;5;124;43m'\u001B[39;49m\u001B[43m,\u001B[49m\u001B[43m \u001B[49m\u001B[43mtol\u001B[49m\u001B[38;5;241;43m=\u001B[39;49m\u001B[38;5;241;43m1e-9\u001B[39;49m\u001B[43m)\u001B[49m\n",
      "File \u001B[0;32m~/miniconda3/envs/dLux/lib/python3.10/site-packages/scipy/optimize/_minimize.py:710\u001B[0m, in \u001B[0;36mminimize\u001B[0;34m(fun, x0, args, method, jac, hess, hessp, bounds, constraints, tol, callback, options)\u001B[0m\n\u001B[1;32m    707\u001B[0m     res \u001B[38;5;241m=\u001B[39m _minimize_newtoncg(fun, x0, args, jac, hess, hessp, callback,\n\u001B[1;32m    708\u001B[0m                              \u001B[38;5;241m*\u001B[39m\u001B[38;5;241m*\u001B[39moptions)\n\u001B[1;32m    709\u001B[0m \u001B[38;5;28;01melif\u001B[39;00m meth \u001B[38;5;241m==\u001B[39m \u001B[38;5;124m'\u001B[39m\u001B[38;5;124ml-bfgs-b\u001B[39m\u001B[38;5;124m'\u001B[39m:\n\u001B[0;32m--> 710\u001B[0m     res \u001B[38;5;241m=\u001B[39m \u001B[43m_minimize_lbfgsb\u001B[49m\u001B[43m(\u001B[49m\u001B[43mfun\u001B[49m\u001B[43m,\u001B[49m\u001B[43m \u001B[49m\u001B[43mx0\u001B[49m\u001B[43m,\u001B[49m\u001B[43m \u001B[49m\u001B[43margs\u001B[49m\u001B[43m,\u001B[49m\u001B[43m \u001B[49m\u001B[43mjac\u001B[49m\u001B[43m,\u001B[49m\u001B[43m \u001B[49m\u001B[43mbounds\u001B[49m\u001B[43m,\u001B[49m\n\u001B[1;32m    711\u001B[0m \u001B[43m                           \u001B[49m\u001B[43mcallback\u001B[49m\u001B[38;5;241;43m=\u001B[39;49m\u001B[43mcallback\u001B[49m\u001B[43m,\u001B[49m\u001B[43m \u001B[49m\u001B[38;5;241;43m*\u001B[39;49m\u001B[38;5;241;43m*\u001B[39;49m\u001B[43moptions\u001B[49m\u001B[43m)\u001B[49m\n\u001B[1;32m    712\u001B[0m \u001B[38;5;28;01melif\u001B[39;00m meth \u001B[38;5;241m==\u001B[39m \u001B[38;5;124m'\u001B[39m\u001B[38;5;124mtnc\u001B[39m\u001B[38;5;124m'\u001B[39m:\n\u001B[1;32m    713\u001B[0m     res \u001B[38;5;241m=\u001B[39m _minimize_tnc(fun, x0, args, jac, bounds, callback\u001B[38;5;241m=\u001B[39mcallback,\n\u001B[1;32m    714\u001B[0m                         \u001B[38;5;241m*\u001B[39m\u001B[38;5;241m*\u001B[39moptions)\n",
      "File \u001B[0;32m~/miniconda3/envs/dLux/lib/python3.10/site-packages/scipy/optimize/_lbfgsb_py.py:307\u001B[0m, in \u001B[0;36m_minimize_lbfgsb\u001B[0;34m(fun, x0, args, jac, bounds, disp, maxcor, ftol, gtol, eps, maxfun, maxiter, iprint, callback, maxls, finite_diff_rel_step, **unknown_options)\u001B[0m\n\u001B[1;32m    304\u001B[0m     \u001B[38;5;28;01melse\u001B[39;00m:\n\u001B[1;32m    305\u001B[0m         iprint \u001B[38;5;241m=\u001B[39m disp\n\u001B[0;32m--> 307\u001B[0m sf \u001B[38;5;241m=\u001B[39m \u001B[43m_prepare_scalar_function\u001B[49m\u001B[43m(\u001B[49m\u001B[43mfun\u001B[49m\u001B[43m,\u001B[49m\u001B[43m \u001B[49m\u001B[43mx0\u001B[49m\u001B[43m,\u001B[49m\u001B[43m \u001B[49m\u001B[43mjac\u001B[49m\u001B[38;5;241;43m=\u001B[39;49m\u001B[43mjac\u001B[49m\u001B[43m,\u001B[49m\u001B[43m \u001B[49m\u001B[43margs\u001B[49m\u001B[38;5;241;43m=\u001B[39;49m\u001B[43margs\u001B[49m\u001B[43m,\u001B[49m\u001B[43m \u001B[49m\u001B[43mepsilon\u001B[49m\u001B[38;5;241;43m=\u001B[39;49m\u001B[43meps\u001B[49m\u001B[43m,\u001B[49m\n\u001B[1;32m    308\u001B[0m \u001B[43m                              \u001B[49m\u001B[43mbounds\u001B[49m\u001B[38;5;241;43m=\u001B[39;49m\u001B[43mnew_bounds\u001B[49m\u001B[43m,\u001B[49m\n\u001B[1;32m    309\u001B[0m \u001B[43m                              \u001B[49m\u001B[43mfinite_diff_rel_step\u001B[49m\u001B[38;5;241;43m=\u001B[39;49m\u001B[43mfinite_diff_rel_step\u001B[49m\u001B[43m)\u001B[49m\n\u001B[1;32m    311\u001B[0m func_and_grad \u001B[38;5;241m=\u001B[39m sf\u001B[38;5;241m.\u001B[39mfun_and_grad\n\u001B[1;32m    313\u001B[0m fortran_int \u001B[38;5;241m=\u001B[39m _lbfgsb\u001B[38;5;241m.\u001B[39mtypes\u001B[38;5;241m.\u001B[39mintvar\u001B[38;5;241m.\u001B[39mdtype\n",
      "File \u001B[0;32m~/miniconda3/envs/dLux/lib/python3.10/site-packages/scipy/optimize/_optimize.py:383\u001B[0m, in \u001B[0;36m_prepare_scalar_function\u001B[0;34m(fun, x0, jac, args, bounds, epsilon, finite_diff_rel_step, hess)\u001B[0m\n\u001B[1;32m    379\u001B[0m     bounds \u001B[38;5;241m=\u001B[39m (\u001B[38;5;241m-\u001B[39mnp\u001B[38;5;241m.\u001B[39minf, np\u001B[38;5;241m.\u001B[39minf)\n\u001B[1;32m    381\u001B[0m \u001B[38;5;66;03m# ScalarFunction caches. Reuse of fun(x) during grad\u001B[39;00m\n\u001B[1;32m    382\u001B[0m \u001B[38;5;66;03m# calculation reduces overall function evaluations.\u001B[39;00m\n\u001B[0;32m--> 383\u001B[0m sf \u001B[38;5;241m=\u001B[39m \u001B[43mScalarFunction\u001B[49m\u001B[43m(\u001B[49m\u001B[43mfun\u001B[49m\u001B[43m,\u001B[49m\u001B[43m \u001B[49m\u001B[43mx0\u001B[49m\u001B[43m,\u001B[49m\u001B[43m \u001B[49m\u001B[43margs\u001B[49m\u001B[43m,\u001B[49m\u001B[43m \u001B[49m\u001B[43mgrad\u001B[49m\u001B[43m,\u001B[49m\u001B[43m \u001B[49m\u001B[43mhess\u001B[49m\u001B[43m,\u001B[49m\n\u001B[1;32m    384\u001B[0m \u001B[43m                    \u001B[49m\u001B[43mfinite_diff_rel_step\u001B[49m\u001B[43m,\u001B[49m\u001B[43m \u001B[49m\u001B[43mbounds\u001B[49m\u001B[43m,\u001B[49m\u001B[43m \u001B[49m\u001B[43mepsilon\u001B[49m\u001B[38;5;241;43m=\u001B[39;49m\u001B[43mepsilon\u001B[49m\u001B[43m)\u001B[49m\n\u001B[1;32m    386\u001B[0m \u001B[38;5;28;01mreturn\u001B[39;00m sf\n",
      "File \u001B[0;32m~/miniconda3/envs/dLux/lib/python3.10/site-packages/scipy/optimize/_differentiable_functions.py:158\u001B[0m, in \u001B[0;36mScalarFunction.__init__\u001B[0;34m(self, fun, x0, args, grad, hess, finite_diff_rel_step, finite_diff_bounds, epsilon)\u001B[0m\n\u001B[1;32m    155\u001B[0m     \u001B[38;5;28mself\u001B[39m\u001B[38;5;241m.\u001B[39mf \u001B[38;5;241m=\u001B[39m fun_wrapped(\u001B[38;5;28mself\u001B[39m\u001B[38;5;241m.\u001B[39mx)\n\u001B[1;32m    157\u001B[0m \u001B[38;5;28mself\u001B[39m\u001B[38;5;241m.\u001B[39m_update_fun_impl \u001B[38;5;241m=\u001B[39m update_fun\n\u001B[0;32m--> 158\u001B[0m \u001B[38;5;28;43mself\u001B[39;49m\u001B[38;5;241;43m.\u001B[39;49m\u001B[43m_update_fun\u001B[49m\u001B[43m(\u001B[49m\u001B[43m)\u001B[49m\n\u001B[1;32m    160\u001B[0m \u001B[38;5;66;03m# Gradient evaluation\u001B[39;00m\n\u001B[1;32m    161\u001B[0m \u001B[38;5;28;01mif\u001B[39;00m \u001B[38;5;28mcallable\u001B[39m(grad):\n",
      "File \u001B[0;32m~/miniconda3/envs/dLux/lib/python3.10/site-packages/scipy/optimize/_differentiable_functions.py:251\u001B[0m, in \u001B[0;36mScalarFunction._update_fun\u001B[0;34m(self)\u001B[0m\n\u001B[1;32m    249\u001B[0m \u001B[38;5;28;01mdef\u001B[39;00m \u001B[38;5;21m_update_fun\u001B[39m(\u001B[38;5;28mself\u001B[39m):\n\u001B[1;32m    250\u001B[0m     \u001B[38;5;28;01mif\u001B[39;00m \u001B[38;5;129;01mnot\u001B[39;00m \u001B[38;5;28mself\u001B[39m\u001B[38;5;241m.\u001B[39mf_updated:\n\u001B[0;32m--> 251\u001B[0m         \u001B[38;5;28;43mself\u001B[39;49m\u001B[38;5;241;43m.\u001B[39;49m\u001B[43m_update_fun_impl\u001B[49m\u001B[43m(\u001B[49m\u001B[43m)\u001B[49m\n\u001B[1;32m    252\u001B[0m         \u001B[38;5;28mself\u001B[39m\u001B[38;5;241m.\u001B[39mf_updated \u001B[38;5;241m=\u001B[39m \u001B[38;5;28;01mTrue\u001B[39;00m\n",
      "File \u001B[0;32m~/miniconda3/envs/dLux/lib/python3.10/site-packages/scipy/optimize/_differentiable_functions.py:155\u001B[0m, in \u001B[0;36mScalarFunction.__init__.<locals>.update_fun\u001B[0;34m()\u001B[0m\n\u001B[1;32m    154\u001B[0m \u001B[38;5;28;01mdef\u001B[39;00m \u001B[38;5;21mupdate_fun\u001B[39m():\n\u001B[0;32m--> 155\u001B[0m     \u001B[38;5;28mself\u001B[39m\u001B[38;5;241m.\u001B[39mf \u001B[38;5;241m=\u001B[39m \u001B[43mfun_wrapped\u001B[49m\u001B[43m(\u001B[49m\u001B[38;5;28;43mself\u001B[39;49m\u001B[38;5;241;43m.\u001B[39;49m\u001B[43mx\u001B[49m\u001B[43m)\u001B[49m\n",
      "File \u001B[0;32m~/miniconda3/envs/dLux/lib/python3.10/site-packages/scipy/optimize/_differentiable_functions.py:137\u001B[0m, in \u001B[0;36mScalarFunction.__init__.<locals>.fun_wrapped\u001B[0;34m(x)\u001B[0m\n\u001B[1;32m    133\u001B[0m \u001B[38;5;28mself\u001B[39m\u001B[38;5;241m.\u001B[39mnfev \u001B[38;5;241m+\u001B[39m\u001B[38;5;241m=\u001B[39m \u001B[38;5;241m1\u001B[39m\n\u001B[1;32m    134\u001B[0m \u001B[38;5;66;03m# Send a copy because the user may overwrite it.\u001B[39;00m\n\u001B[1;32m    135\u001B[0m \u001B[38;5;66;03m# Overwriting results in undefined behaviour because\u001B[39;00m\n\u001B[1;32m    136\u001B[0m \u001B[38;5;66;03m# fun(self.x) will change self.x, with the two no longer linked.\u001B[39;00m\n\u001B[0;32m--> 137\u001B[0m fx \u001B[38;5;241m=\u001B[39m \u001B[43mfun\u001B[49m\u001B[43m(\u001B[49m\u001B[43mnp\u001B[49m\u001B[38;5;241;43m.\u001B[39;49m\u001B[43mcopy\u001B[49m\u001B[43m(\u001B[49m\u001B[43mx\u001B[49m\u001B[43m)\u001B[49m\u001B[43m,\u001B[49m\u001B[43m \u001B[49m\u001B[38;5;241;43m*\u001B[39;49m\u001B[43margs\u001B[49m\u001B[43m)\u001B[49m\n\u001B[1;32m    138\u001B[0m \u001B[38;5;66;03m# Make sure the function returns a true scalar\u001B[39;00m\n\u001B[1;32m    139\u001B[0m \u001B[38;5;28;01mif\u001B[39;00m \u001B[38;5;129;01mnot\u001B[39;00m np\u001B[38;5;241m.\u001B[39misscalar(fx):\n",
      "Cell \u001B[0;32mIn[8], line 11\u001B[0m, in \u001B[0;36mloss_fn\u001B[0;34m(params)\u001B[0m\n\u001B[1;32m      9\u001B[0m \u001B[38;5;28;01mdef\u001B[39;00m \u001B[38;5;21mloss_fn\u001B[39m(params):\n\u001B[1;32m     10\u001B[0m     xoffset, yoffset \u001B[38;5;241m=\u001B[39m params\n\u001B[0;32m---> 11\u001B[0m     generated_pattern \u001B[38;5;241m=\u001B[39m \u001B[43mmodel\u001B[49m\u001B[43m(\u001B[49m\u001B[43mxoffset\u001B[49m\u001B[43m,\u001B[49m\u001B[43m \u001B[49m\u001B[43myoffset\u001B[49m\u001B[43m)\u001B[49m\n\u001B[1;32m     12\u001B[0m     diff \u001B[38;5;241m=\u001B[39m sci_frame_norm \u001B[38;5;241m-\u001B[39m generated_pattern\n\u001B[1;32m     13\u001B[0m     mse \u001B[38;5;241m=\u001B[39m np\u001B[38;5;241m.\u001B[39mmean(diff\u001B[38;5;241m*\u001B[39m\u001B[38;5;241m*\u001B[39m\u001B[38;5;241m2\u001B[39m)\n",
      "Cell \u001B[0;32mIn[8], line 3\u001B[0m, in \u001B[0;36mmodel\u001B[0;34m(xoffset, yoffset)\u001B[0m\n\u001B[1;32m      1\u001B[0m \u001B[38;5;28;01mdef\u001B[39;00m \u001B[38;5;21mmodel\u001B[39m(xoffset, yoffset):\n\u001B[1;32m      2\u001B[0m     src \u001B[38;5;241m=\u001B[39m dl\u001B[38;5;241m.\u001B[39mPointSource(position\u001B[38;5;241m=\u001B[39ma2r(np\u001B[38;5;241m.\u001B[39marray([xoffset, yoffset])), \u001B[38;5;241m*\u001B[39m\u001B[38;5;241m*\u001B[39m\u001B[38;5;28mdict\u001B[39m(np\u001B[38;5;241m.\u001B[39mload(\u001B[38;5;124mf\u001B[39m\u001B[38;5;124m'\u001B[39m\u001B[38;5;124mfilter_configs/\u001B[39m\u001B[38;5;132;01m{\u001B[39;00mfilt\u001B[38;5;132;01m}\u001B[39;00m\u001B[38;5;124m.npz\u001B[39m\u001B[38;5;124m'\u001B[39m)))\n\u001B[0;32m----> 3\u001B[0m     instrument \u001B[38;5;241m=\u001B[39m dl\u001B[38;5;241m.\u001B[39mInstrument(optics\u001B[38;5;241m=\u001B[39m\u001B[43mosys\u001B[49m, sources\u001B[38;5;241m=\u001B[39msrc, detector\u001B[38;5;241m=\u001B[39mdet)\n\u001B[1;32m      4\u001B[0m     psf \u001B[38;5;241m=\u001B[39m instrument\u001B[38;5;241m.\u001B[39mmodel()\n\u001B[1;32m      5\u001B[0m     psf \u001B[38;5;241m=\u001B[39m psf[\u001B[38;5;241m6\u001B[39m:\u001B[38;5;241m-\u001B[39m\u001B[38;5;241m6\u001B[39m, \u001B[38;5;241m6\u001B[39m:\u001B[38;5;241m-\u001B[39m\u001B[38;5;241m6\u001B[39m]\n",
      "\u001B[0;31mNameError\u001B[0m: name 'osys' is not defined"
     ]
    }
   ],
   "source": [
    "initial_guess = np.array([0., 0.])  # Initial guess for xoffset and yoffset\n",
    "result = minimize(loss_fn, initial_guess, bounds=[(-1e-6, 1e-6), (-1e-6, 1e-6)], method='L-BFGS-B', tol=1e-9)"
   ],
   "metadata": {
    "collapsed": false,
    "ExecuteTime": {
     "end_time": "2023-08-23T02:29:01.123205Z",
     "start_time": "2023-08-23T02:29:00.776618Z"
    }
   }
  },
  {
   "cell_type": "markdown",
   "source": [
    "Plotting the result"
   ],
   "metadata": {
    "collapsed": false
   }
  },
  {
   "cell_type": "code",
   "execution_count": null,
   "outputs": [],
   "source": [
    "plot_and_compare(sci_frame_norm, model(*result.x), colorbars=True, titles=['JWST Data', r'$\\partial$Lux Model'])\n",
    "print('Offsets: ', *result.x)\n",
    "print('MSE: ', result.fun)"
   ],
   "metadata": {
    "collapsed": false,
    "is_executing": true
   }
  },
  {
   "cell_type": "markdown",
   "source": [
    "Okay, now let's do this for all the frames. We will ignore all frames that are not in the SUBTAAMI subarray, because the SUB80 array has a different image size."
   ],
   "metadata": {
    "collapsed": false
   }
  },
  {
   "cell_type": "code",
   "execution_count": 15,
   "outputs": [],
   "source": [
    "offset_list = {}\n",
    "for idx in range(HD37093.shape[0]):\n",
    "\n",
    "    # checking subarray\n",
    "    if list(HD37093['SUBARRAY'])[idx] != 'SUBTAAMI':\n",
    "        continue\n",
    "\n",
    "    # loading filter and science frame\n",
    "    filename = data_path + uncal_to_calints(list(HD37093['DISKNAME'])[idx])\n",
    "    HDUList = fits.open(filename)\n",
    "    filt = list(HD37093['FILTER'])[idx]\n",
    "    sci_frame = np.array(HDUList['SCI'].data[0])\n",
    "    sci_frame_norm = sci_frame/sci_frame.sum()\n",
    "\n",
    "    max_loc = np.where(sci_frame_norm == sci_frame_norm.max())  # get indices\n",
    "    max_loc = ((np.array(max_loc) - sci_frame_norm.shape[0]/2 + 0.5) * webbpsfobj.pixelscale).T[0]  # convert to arcseconds\n",
    "    max_loc = np.array([max_loc[1], -max_loc[0]])  # flip y axis ?? idk\n",
    "\n",
    "    bound = np.array([[max_loc[0] - 0.01, max_loc[0] + 0.01], [max_loc[1] - 0.01, max_loc[1] + 0.01]])\n",
    "    result = minimize(loss_fn, x0=max_loc, bounds=bound, method='Nelder-Mead', tol=1e-9)  # running descent\n",
    "\n",
    "    offset_list[filename] = result.x  # saving offset\n",
    "\n",
    "    plot_and_compare(sci_frame_norm, model(*result.x), colorbars=True, titles=['JWST Data', r'$\\partial$Lux Model'])"
   ],
   "metadata": {
    "collapsed": false,
    "ExecuteTime": {
     "end_time": "2023-08-23T02:30:06.582268Z",
     "start_time": "2023-08-23T02:30:06.533801Z"
    }
   }
  },
  {
   "cell_type": "markdown",
   "source": [
    "The residuals look more or less like the gradient descent worked. Let's save the offsets."
   ],
   "metadata": {
    "collapsed": false
   }
  },
  {
   "cell_type": "code",
   "execution_count": 5,
   "outputs": [
    {
     "data": {
      "text/plain": "<matplotlib.image.AxesImage at 0x17e0c4cd0>"
     },
     "execution_count": 5,
     "metadata": {},
     "output_type": "execute_result"
    },
    {
     "data": {
      "text/plain": "<Figure size 640x480 with 1 Axes>",
      "image/png": "[encoded data removed]"
     },
     "metadata": {},
     "output_type": "display_data"
    }
   ],
   "source": [
    "plt.imshow(sci_frame_norm)"
   ],
   "metadata": {
    "collapsed": false,
    "ExecuteTime": {
     "end_time": "2023-08-25T06:50:07.550151Z",
     "start_time": "2023-08-25T06:50:07.400358Z"
    }
   }
  },
  {
   "cell_type": "code",
   "execution_count": null,
   "outputs": [],
   "source": [
    "np.savez('data/HD-37093_offsets.npz', **offset_list)"
   ],
   "metadata": {
    "collapsed": false,
    "ExecuteTime": {
     "start_time": "2023-08-23T02:28:54.174317Z"
    }
   }
  }
 ],
 "metadata": {
  "kernelspec": {
   "display_name": "Python 3",
   "language": "python",
   "name": "python3"
  },
  "language_info": {
   "codemirror_mode": {
    "name": "ipython",
    "version": 2
   },
   "file_extension": ".py",
   "mimetype": "text/x-python",
   "name": "python",
   "nbconvert_exporter": "python",
   "pygments_lexer": "ipython2",
   "version": "2.7.6"
  }
 },
 "nbformat": 4,
 "nbformat_minor": 0
}
