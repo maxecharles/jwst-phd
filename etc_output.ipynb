{
 "cells": [
  {
   "cell_type": "code",
   "execution_count": 3,
   "metadata": {},
   "outputs": [],
   "source": [
    "from astropy.io import fits\n",
    "import numpy as np\n",
    "\n",
    "\n",
    "paths = [f\"data/ETC/F430M/image/\", f\"data/ETC/F480M/image/\"]\n",
    "\n",
    "file_det = \"image_detector.fits\"\n",
    "file_ngroups = \"image_ngroups_map.fits\"\n",
    "file_sat = \"image_saturation.fits\"\n",
    "file_snr = \"image_snr.fits\""
   ]
  },
  {
   "cell_type": "markdown",
   "metadata": {},
   "source": [
    "## Loading files in for each filter"
   ]
  },
  {
   "cell_type": "code",
   "execution_count": 4,
   "metadata": {},
   "outputs": [],
   "source": [
    "# F430M\n",
    "ngroups_430 = fits.open(paths[0] + file_ngroups)[0]\n",
    "det_430 = fits.open(paths[0] + file_det)[0]\n",
    "\n",
    "psf_430 = np.array(det_430.data)\n",
    "total_flux_430 = np.nansum(psf_430)\n",
    "\n",
    "# F480M\n",
    "ngroups_480 = fits.open(paths[1] + file_ngroups)[0]\n",
    "det_480 = fits.open(paths[1] + file_det)[0]\n",
    "\n",
    "psf_480 = np.array(det_480.data)\n",
    "total_flux_480 = np.nansum(psf_480)"
   ]
  },
  {
   "cell_type": "code",
   "execution_count": 6,
   "metadata": {},
   "outputs": [],
   "source": [
    "n = 10\n",
    "groups = np.arange(1, n+1)\n",
    "losts_430, losts_480 = [], []\n",
    "\n",
    "for i in groups:\n",
    "    # saturation mask\n",
    "    mask_430 = np.where(ngroups_430.data <= i, 1, 0)\n",
    "    mask_480 = np.where(ngroups_480.data <= i, 1, 0)\n",
    "\n",
    "    # lost flux\n",
    "    lost_430 = np.nansum(psf_430 * mask_430)\n",
    "    lost_480 = np.nansum(psf_480 * mask_480)\n",
    "\n",
    "    # appending\n",
    "    losts_430.append(lost_430 / total_flux_430)\n",
    "    losts_480.append(lost_480 / total_flux_480)\n",
    "\n",
    "\n",
    "losts_430 = np.array(losts_430)\n",
    "losts_480 = np.array(losts_480)"
   ]
  },
  {
   "cell_type": "code",
   "execution_count": null,
   "metadata": {},
   "outputs": [],
   "source": []
  }
 ],
 "metadata": {
  "kernelspec": {
   "display_name": "dLux",
   "language": "python",
   "name": "python3"
  },
  "language_info": {
   "codemirror_mode": {
    "name": "ipython",
    "version": 3
   },
   "file_extension": ".py",
   "mimetype": "text/x-python",
   "name": "python",
   "nbconvert_exporter": "python",
   "pygments_lexer": "ipython3",
   "version": "3.10.0"
  }
 },
 "nbformat": 4,
 "nbformat_minor": 2
}
