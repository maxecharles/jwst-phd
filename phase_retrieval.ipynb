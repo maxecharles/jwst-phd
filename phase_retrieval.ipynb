{
 "cells": [
  {
   "cell_type": "code",
   "execution_count": 1,
   "id": "initial_id",
   "metadata": {
    "collapsed": true,
    "ExecuteTime": {
     "end_time": "2023-08-31T23:55:21.032072Z",
     "start_time": "2023-08-31T23:55:18.682021Z"
    }
   },
   "outputs": [
    {
     "name": "stderr",
     "output_type": "stream",
     "text": [
      "**WARNING**: LOCAL JWST PRD VERSION PRDOPSSOC-059 CANNOT BE CHECKED AGAINST ONLINE VERSION\n"
     ]
    },
    {
     "name": "stdout",
     "output_type": "stream",
     "text": [
      "dLux: Jax is running in 32-bit, to enable 64-bit visit: https://jax.readthedocs.io/en/latest/notebooks/Common_Gotchas_in_JAX.html#double-64bit-precision\n"
     ]
    }
   ],
   "source": [
    "import webbpsf\n",
    "import dLux as dl\n",
    "import dLuxWebbpsf as dlW\n",
    "\n",
    "import jax.numpy as np\n",
    "import jax.random as jr\n",
    "\n",
    "from tqdm.notebook import tqdm\n",
    "import matplotlib.pyplot as plt\n",
    "import pandas as pd\n",
    "\n",
    "import optax\n",
    "import zodiax as zdx\n",
    "import jax\n",
    "\n",
    "from dLux.utils import deg_to_rad as d2r\n",
    "import dLux.utils as dlu\n",
    "from astropy.io import fits\n",
    "from detector_layers import DistortionFromSiaf\n",
    "\n",
    "plt.rcParams['image.origin'] = 'lower'"
   ]
  },
  {
   "cell_type": "markdown",
   "source": [
    "# Building Model"
   ],
   "metadata": {
    "collapsed": false
   },
   "id": "9e5a35ff75f093b"
  },
  {
   "cell_type": "code",
   "execution_count": null,
   "outputs": [],
   "source": [
    "# Primary mirror - note this class automatically flips about the y-axis\n",
    "webbpsfobj = webbpsf.NIRISS()\n",
    "webbpsfobj.calc_psf()  # calculating fits files\n",
    "webbpsfobj.pupil_mask = \"MASK_NRM\"\n",
    "NIS_CEN_aperture = webbpsfobj.siaf.apertures[\"NIS_CEN\"]\n",
    "webbpsf_osys = webbpsfobj.get_optical_system()\n",
    "planes = webbpsf_osys.planes"
   ],
   "metadata": {
    "collapsed": false,
    "is_executing": true,
    "ExecuteTime": {
     "start_time": "2023-08-31T23:55:21.033065Z"
    }
   },
   "id": "3096ed9532d4de51"
  },
  {
   "cell_type": "code",
   "execution_count": null,
   "outputs": [],
   "source": [
    "radial_orders = np.array([0, 1, 2], dtype=int)\n",
    "hexike_shape = (7, int(np.sum(np.array([dl.utils.triangular_number(i+1) - dl.utils.triangular_number(i) for i in radial_orders]))))\n",
    "\n",
    "true_flux = 1e8\n",
    "true_coeffs = 1e-7 * jr.normal(jr.PRNGKey(0), hexike_shape)"
   ],
   "metadata": {
    "collapsed": false,
    "is_executing": true
   },
   "id": "37d569266a685bbd"
  },
  {
   "cell_type": "code",
   "execution_count": null,
   "outputs": [],
   "source": [
    "npix = 1024\n",
    "oversample = 4\n",
    "pscale = (planes[-1].pixelscale).to(\"arcsec/pix\").value\n",
    "pupil_plane = planes[-2]\n",
    "\n",
    "osys = dl.LayeredOptics(\n",
    "    wf_npixels=1024,\n",
    "    diameter=planes[0].pixelscale.to(\"m/pix\").value * planes[0].npix,\n",
    "    layers=[\n",
    "        (dlW.optical_layers.JWSTAberratedPrimary(\n",
    "            planes[0].amplitude,\n",
    "            planes[0].opd,\n",
    "            radial_orders=radial_orders,\n",
    "            coefficients=true_coeffs,\n",
    "            AMI=True,\n",
    "        ), \"Pupil\"),\n",
    "        (dl.Flip(0), \"InvertY\"),\n",
    "        (dl.Optic(pupil_plane.amplitude), \"Mask\"),\n",
    "        (dlW.MFT(npixels=oversample * 64, oversample=oversample, pixel_scale=pscale), \"Propagator\"),\n",
    "    ]\n",
    ")\n",
    "\n",
    "src = dl.PointSource(flux=true_flux, **dict(np.load(\"filter_configs/F480M.npz\")))\n",
    "detector = dl.LayeredDetector(\n",
    "    [\n",
    "        dlW.detector_layers.Rotate(-d2r(getattr(NIS_CEN_aperture, \"V3IdlYAngle\"))),\n",
    "        DistortionFromSiaf(\n",
    "            aperture=NIS_CEN_aperture\n",
    "        ),  # TODO implement dLuxWebbpsf version\n",
    "        dl.IntegerDownsample(kernel_size=4),  # Downsample to detector pixel scale\n",
    "    ]\n",
    ")\n",
    "\n",
    "instrument = dl.Instrument(sources=[src], detector=detector, optics=osys)"
   ],
   "metadata": {
    "collapsed": false,
    "is_executing": true
   },
   "id": "2a07eb43afd4bea5"
  },
  {
   "cell_type": "markdown",
   "source": [
    "# Reading Data"
   ],
   "metadata": {
    "collapsed": false
   },
   "id": "aff5167c413bb924"
  },
  {
   "cell_type": "code",
   "execution_count": null,
   "outputs": [],
   "source": [
    "data_path = 'data/calints/'\n",
    "info_path = 'data/comm_1093_exposure_info_epoch2.txt'\n",
    "\n",
    "def uncal_to_calints(filename):\n",
    "    return filename[:-10] + 'calints.fits'"
   ],
   "metadata": {
    "collapsed": false,
    "is_executing": true
   },
   "id": "f1238a65ff041d09"
  },
  {
   "cell_type": "code",
   "execution_count": null,
   "outputs": [],
   "source": [
    "# DATA\n",
    "# reading table to pandas dataframe\n",
    "df = pd.read_table(info_path, sep='\\s+', header=0, skiprows=[1])\n",
    "\n",
    "# selecting HD-37093 target\n",
    "HD37093 = df[df['TARGPROP'] == 'HD-37093']\n",
    "\n",
    "file_idx = 0  # selecting first file\n",
    "HDUList = fits.open(data_path + uncal_to_calints(list(HD37093['DISKNAME'])[file_idx]))\n",
    "\n",
    "print(HDUList.info())\n",
    "\n",
    "filt = list(HD37093['FILTER'])[file_idx]\n",
    "\n",
    "data = np.array(HDUList['SCI'].data[0])"
   ],
   "metadata": {
    "collapsed": false,
    "is_executing": true
   },
   "id": "66a6625c1cc81b2c"
  },
  {
   "cell_type": "code",
   "execution_count": null,
   "outputs": [],
   "source": [
    "plt.imshow(data, cmap='magma')\n",
    "plt.title('JWST AMI Frame')\n",
    "plt.colorbar(label='Counts')\n",
    "plt.show()\n",
    "\n",
    "plt.imshow(np.array(HDUList['DQ'].data[0]), cmap='gray')\n",
    "plt.title('JWST AMI Frame')\n",
    "plt.colorbar(label='Bad Pixels')\n",
    "plt.show()"
   ],
   "metadata": {
    "collapsed": false,
    "is_executing": true
   },
   "id": "40d656a3ae8e1eea"
  },
  {
   "cell_type": "code",
   "execution_count": null,
   "outputs": [],
   "source": [],
   "metadata": {
    "collapsed": false,
    "is_executing": true
   },
   "id": "33b6f34dc23168b4"
  }
 ],
 "metadata": {
  "kernelspec": {
   "display_name": "Python 3",
   "language": "python",
   "name": "python3"
  },
  "language_info": {
   "codemirror_mode": {
    "name": "ipython",
    "version": 2
   },
   "file_extension": ".py",
   "mimetype": "text/x-python",
   "name": "python",
   "nbconvert_exporter": "python",
   "pygments_lexer": "ipython2",
   "version": "2.7.6"
  }
 },
 "nbformat": 4,
 "nbformat_minor": 5
}
